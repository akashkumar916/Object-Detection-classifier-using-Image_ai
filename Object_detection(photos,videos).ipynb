{
  "nbformat": 4,
  "nbformat_minor": 0,
  "metadata": {
    "colab": {
      "name": "Object_detection(photos,videos).ipynb",
      "provenance": [],
      "collapsed_sections": []
    },
    "kernelspec": {
      "name": "python3",
      "display_name": "Python 3"
    }
  },
  "cells": [
    {
      "cell_type": "markdown",
      "metadata": {
        "id": "_recOqK_2E14",
        "colab_type": "text"
      },
      "source": [
        "#Object Detection Classifier\n",
        "**using Imageai**"
      ]
    },
    {
      "cell_type": "markdown",
      "metadata": {
        "id": "0h5dW56g2TT5",
        "colab_type": "text"
      },
      "source": [
        "From Photos"
      ]
    },
    {
      "cell_type": "code",
      "metadata": {
        "id": "QQxjxuIGIdZQ",
        "colab_type": "code",
        "colab": {
          "base_uri": "https://localhost:8080/",
          "height": 68
        },
        "outputId": "37d226fe-1409-4d75-e7ab-e2c273fc1e27"
      },
      "source": [
        "from imageai.Detection import ObjectDetection\n",
        "import os\n",
        "\n",
        "execution_path = os.getcwd()\n",
        "\n",
        "detector = ObjectDetection()\n",
        "detector.setModelTypeAsRetinaNet()\n",
        "detector.setModelPath( os.path.join(execution_path , \"../resnet50_coco_best_v2.0.1.h5\"))\n",
        "detector.loadModel()\n",
        "detections = detector.detectObjectsFromImage(input_image=os.path.join(execution_path , \"../traffic_Image.jpg\"), output_image_path=os.path.join(execution_path , \"../traffic_imagenew.jpg\"))\n",
        "\n",
        "for eachObject in detections:\n",
        "    print(eachObject[\"name\"] , \" : \" , eachObject[\"percentage_probability\"] )"
      ],
      "execution_count": 18,
      "outputs": [
        {
          "output_type": "stream",
          "text": [
            "person  :  90.98637104034424\n",
            "person  :  85.25654077529907\n",
            "person  :  83.02676677703857\n"
          ],
          "name": "stdout"
        }
      ]
    },
    {
      "cell_type": "markdown",
      "metadata": {
        "id": "8TK7dCoY2YGd",
        "colab_type": "text"
      },
      "source": [
        "From Video"
      ]
    },
    {
      "cell_type": "code",
      "metadata": {
        "id": "kf-jqTiDsYEC",
        "colab_type": "code",
        "colab": {
          "base_uri": "https://localhost:8080/",
          "height": 1000
        },
        "outputId": "437bbaa1-968f-4053-9ad1-34cdcd431ee5"
      },
      "source": [
        "from imageai.Detection import VideoObjectDetection\n",
        "import os\n",
        "import cv2\n",
        "\n",
        "execution_path = os.getcwd()\n",
        "\n",
        "camera = cv2.VideoCapture(0)\n",
        "\n",
        "\n",
        "detector = VideoObjectDetection()\n",
        "detector.setModelTypeAsRetinaNet()\n",
        "detector.setModelPath(os.path.join(execution_path , \"../resnet50_coco_best_v2.0.1.h5\"))\n",
        "detector.loadModel()\n",
        "\n",
        "video_path = detector.detectObjectsFromVideo(input_file_path=os.path.join(execution_path, \"../akku.mp4\"),\n",
        "                        output_file_path=os.path.join(execution_path, \"../camera_detected_video\")\n",
        "                        , frames_per_second=20, log_progress=True, minimum_percentage_probability=40, detection_timeout=120)\n",
        "\n",
        "print(video_path)"
      ],
      "execution_count": 25,
      "outputs": [
        {
          "output_type": "stream",
          "text": [
            "Processing Frame :  1\n",
            "Processing Frame :  2\n",
            "Processing Frame :  3\n",
            "Processing Frame :  4\n",
            "Processing Frame :  5\n",
            "Processing Frame :  6\n",
            "Processing Frame :  7\n",
            "Processing Frame :  8\n",
            "Processing Frame :  9\n",
            "Processing Frame :  10\n",
            "Processing Frame :  11\n",
            "Processing Frame :  12\n",
            "Processing Frame :  13\n",
            "Processing Frame :  14\n",
            "Processing Frame :  15\n",
            "Processing Frame :  16\n",
            "Processing Frame :  17\n",
            "Processing Frame :  18\n",
            "Processing Frame :  19\n",
            "Processing Frame :  20\n",
            "Processing Frame :  21\n",
            "Processing Frame :  22\n",
            "Processing Frame :  23\n",
            "Processing Frame :  24\n",
            "Processing Frame :  25\n",
            "Processing Frame :  26\n",
            "Processing Frame :  27\n",
            "Processing Frame :  28\n",
            "Processing Frame :  29\n",
            "Processing Frame :  30\n",
            "Processing Frame :  31\n",
            "Processing Frame :  32\n",
            "Processing Frame :  33\n",
            "Processing Frame :  34\n",
            "Processing Frame :  35\n",
            "Processing Frame :  36\n",
            "Processing Frame :  37\n",
            "Processing Frame :  38\n",
            "Processing Frame :  39\n",
            "Processing Frame :  40\n",
            "Processing Frame :  41\n",
            "Processing Frame :  42\n",
            "Processing Frame :  43\n",
            "Processing Frame :  44\n",
            "Processing Frame :  45\n",
            "Processing Frame :  46\n",
            "Processing Frame :  47\n",
            "Processing Frame :  48\n",
            "Processing Frame :  49\n",
            "Processing Frame :  50\n",
            "Processing Frame :  51\n",
            "Processing Frame :  52\n",
            "Processing Frame :  53\n",
            "Processing Frame :  54\n",
            "Processing Frame :  55\n",
            "Processing Frame :  56\n",
            "Processing Frame :  57\n",
            "Processing Frame :  58\n",
            "Processing Frame :  59\n",
            "Processing Frame :  60\n",
            "Processing Frame :  61\n",
            "Processing Frame :  62\n",
            "Processing Frame :  63\n",
            "Processing Frame :  64\n",
            "Processing Frame :  65\n",
            "Processing Frame :  66\n",
            "Processing Frame :  67\n",
            "Processing Frame :  68\n",
            "Processing Frame :  69\n",
            "Processing Frame :  70\n",
            "Processing Frame :  71\n",
            "Processing Frame :  72\n",
            "Processing Frame :  73\n",
            "Processing Frame :  74\n",
            "Processing Frame :  75\n",
            "Processing Frame :  76\n",
            "Processing Frame :  77\n",
            "Processing Frame :  78\n",
            "Processing Frame :  79\n",
            "Processing Frame :  80\n",
            "Processing Frame :  81\n",
            "Processing Frame :  82\n",
            "Processing Frame :  83\n",
            "Processing Frame :  84\n",
            "Processing Frame :  85\n",
            "Processing Frame :  86\n",
            "Processing Frame :  87\n",
            "Processing Frame :  88\n",
            "Processing Frame :  89\n",
            "Processing Frame :  90\n",
            "Processing Frame :  91\n",
            "Processing Frame :  92\n",
            "Processing Frame :  93\n",
            "Processing Frame :  94\n",
            "Processing Frame :  95\n",
            "Processing Frame :  96\n",
            "Processing Frame :  97\n",
            "Processing Frame :  98\n",
            "Processing Frame :  99\n",
            "/content/../camera_detected_video.avi\n"
          ],
          "name": "stdout"
        }
      ]
    },
    {
      "cell_type": "markdown",
      "metadata": {
        "id": "ClH4q_Ba1VNW",
        "colab_type": "text"
      },
      "source": [
        "If you want to access a video with your camera\n",
        "replace few line a code<br/>\n",
        "**input_file_path=os.path.join(execution_path, \"../akku.mp4\")--------->camera_input=camera**"
      ]
    },
    {
      "cell_type": "code",
      "metadata": {
        "id": "Rg8Ui4VRJOAF",
        "colab_type": "code",
        "colab": {
          "base_uri": "https://localhost:8080/",
          "height": 34
        },
        "outputId": "5ea814bb-da3c-4116-9ddc-71decb70b80f"
      },
      "source": [
        "!pip3 install -q imageai"
      ],
      "execution_count": 4,
      "outputs": [
        {
          "output_type": "stream",
          "text": [
            "\u001b[?25l\r\u001b[K     |█▉                              | 10kB 22.4MB/s eta 0:00:01\r\u001b[K     |███▋                            | 20kB 1.8MB/s eta 0:00:01\r\u001b[K     |█████▍                          | 30kB 2.7MB/s eta 0:00:01\r\u001b[K     |███████▎                        | 40kB 1.7MB/s eta 0:00:01\r\u001b[K     |█████████                       | 51kB 2.2MB/s eta 0:00:01\r\u001b[K     |██████████▉                     | 61kB 2.6MB/s eta 0:00:01\r\u001b[K     |████████████▊                   | 71kB 3.0MB/s eta 0:00:01\r\u001b[K     |██████████████▌                 | 81kB 3.4MB/s eta 0:00:01\r\u001b[K     |████████████████▎               | 92kB 3.8MB/s eta 0:00:01\r\u001b[K     |██████████████████▏             | 102kB 2.9MB/s eta 0:00:01\r\u001b[K     |████████████████████            | 112kB 2.9MB/s eta 0:00:01\r\u001b[K     |█████████████████████▊          | 122kB 2.9MB/s eta 0:00:01\r\u001b[K     |███████████████████████▋        | 133kB 2.9MB/s eta 0:00:01\r\u001b[K     |█████████████████████████▍      | 143kB 2.9MB/s eta 0:00:01\r\u001b[K     |███████████████████████████▏    | 153kB 2.9MB/s eta 0:00:01\r\u001b[K     |█████████████████████████████   | 163kB 2.9MB/s eta 0:00:01\r\u001b[K     |██████████████████████████████▉ | 174kB 2.9MB/s eta 0:00:01\r\u001b[K     |████████████████████████████████| 184kB 2.9MB/s \n",
            "\u001b[?25h"
          ],
          "name": "stdout"
        }
      ]
    }
  ]
}